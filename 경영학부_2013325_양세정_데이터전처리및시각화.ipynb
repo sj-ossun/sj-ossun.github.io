{
 "cells": [
  {
   "cell_type": "code",
   "execution_count": 1,
   "id": "2c22d427",
   "metadata": {},
   "outputs": [],
   "source": [
    "from matplotlib import font_manager, rc\n",
    "import matplotlib\n",
    "import platform\n",
    "import matplotlib.pyplot as plt\n",
    "import seaborn as sns\n",
    "import pandas as pd\n",
    "\n",
    "%matplotlib inline\n",
    "\n",
    "\n",
    "if platform.system() == 'Windows':\n",
    "    font_name = font_manager.FontProperties(fname=\"c:/Windows/Fonts/malgun.ttf\").get_name()\n",
    "    rc('font', family = font_name)\n",
    "else:\n",
    "    rc('font',family='AppleGothic')\n",
    "    \n",
    "matplotlib.rcParams['axes.unicode_minus']=False\n"
   ]
  },
  {
   "cell_type": "code",
   "execution_count": 2,
   "id": "31e32f7a",
   "metadata": {},
   "outputs": [],
   "source": [
    "df = pd.read_csv(\"health_data.csv\")"
   ]
  },
  {
   "cell_type": "code",
   "execution_count": 3,
   "id": "d591316d",
   "metadata": {},
   "outputs": [
    {
     "data": {
      "text/html": [
       "<div>\n",
       "<style scoped>\n",
       "    .dataframe tbody tr th:only-of-type {\n",
       "        vertical-align: middle;\n",
       "    }\n",
       "\n",
       "    .dataframe tbody tr th {\n",
       "        vertical-align: top;\n",
       "    }\n",
       "\n",
       "    .dataframe thead th {\n",
       "        text-align: right;\n",
       "    }\n",
       "</style>\n",
       "<table border=\"1\" class=\"dataframe\">\n",
       "  <thead>\n",
       "    <tr style=\"text-align: right;\">\n",
       "      <th></th>\n",
       "      <th>기준년도</th>\n",
       "      <th>가입자일련번호</th>\n",
       "      <th>시도코드</th>\n",
       "      <th>성별</th>\n",
       "      <th>연령대코드(5세단위)</th>\n",
       "      <th>신장(5Cm단위)</th>\n",
       "      <th>체중(5Kg 단위)</th>\n",
       "      <th>허리둘레</th>\n",
       "      <th>시력(좌)</th>\n",
       "      <th>시력(우)</th>\n",
       "      <th>...</th>\n",
       "      <th>혈청크레아티닌</th>\n",
       "      <th>(혈청지오티)AST</th>\n",
       "      <th>(혈청지오티)ALT</th>\n",
       "      <th>감마지티피</th>\n",
       "      <th>흡연상태</th>\n",
       "      <th>음주여부</th>\n",
       "      <th>구강검진수검여부</th>\n",
       "      <th>치아우식증유무</th>\n",
       "      <th>치석</th>\n",
       "      <th>데이터공개일자</th>\n",
       "    </tr>\n",
       "  </thead>\n",
       "  <tbody>\n",
       "    <tr>\n",
       "      <th>0</th>\n",
       "      <td>2020</td>\n",
       "      <td>1</td>\n",
       "      <td>36</td>\n",
       "      <td>M</td>\n",
       "      <td>9</td>\n",
       "      <td>165</td>\n",
       "      <td>60</td>\n",
       "      <td>72.1</td>\n",
       "      <td>1.2</td>\n",
       "      <td>1.5</td>\n",
       "      <td>...</td>\n",
       "      <td>1.1</td>\n",
       "      <td>21.0</td>\n",
       "      <td>27.0</td>\n",
       "      <td>21.0</td>\n",
       "      <td>No</td>\n",
       "      <td>No</td>\n",
       "      <td>0</td>\n",
       "      <td>NaN</td>\n",
       "      <td>NaN</td>\n",
       "      <td>12/29/2021</td>\n",
       "    </tr>\n",
       "    <tr>\n",
       "      <th>1</th>\n",
       "      <td>2020</td>\n",
       "      <td>2</td>\n",
       "      <td>27</td>\n",
       "      <td>F</td>\n",
       "      <td>13</td>\n",
       "      <td>150</td>\n",
       "      <td>65</td>\n",
       "      <td>81.0</td>\n",
       "      <td>0.8</td>\n",
       "      <td>0.8</td>\n",
       "      <td>...</td>\n",
       "      <td>0.5</td>\n",
       "      <td>18.0</td>\n",
       "      <td>15.0</td>\n",
       "      <td>15.0</td>\n",
       "      <td>No</td>\n",
       "      <td>No</td>\n",
       "      <td>0</td>\n",
       "      <td>NaN</td>\n",
       "      <td>NaN</td>\n",
       "      <td>12/29/2021</td>\n",
       "    </tr>\n",
       "    <tr>\n",
       "      <th>2</th>\n",
       "      <td>2020</td>\n",
       "      <td>3</td>\n",
       "      <td>11</td>\n",
       "      <td>F</td>\n",
       "      <td>12</td>\n",
       "      <td>155</td>\n",
       "      <td>55</td>\n",
       "      <td>70.0</td>\n",
       "      <td>0.6</td>\n",
       "      <td>0.7</td>\n",
       "      <td>...</td>\n",
       "      <td>0.7</td>\n",
       "      <td>27.0</td>\n",
       "      <td>25.0</td>\n",
       "      <td>7.0</td>\n",
       "      <td>No</td>\n",
       "      <td>No</td>\n",
       "      <td>0</td>\n",
       "      <td>NaN</td>\n",
       "      <td>NaN</td>\n",
       "      <td>12/29/2021</td>\n",
       "    </tr>\n",
       "    <tr>\n",
       "      <th>3</th>\n",
       "      <td>2020</td>\n",
       "      <td>4</td>\n",
       "      <td>31</td>\n",
       "      <td>M</td>\n",
       "      <td>13</td>\n",
       "      <td>160</td>\n",
       "      <td>70</td>\n",
       "      <td>90.8</td>\n",
       "      <td>1.0</td>\n",
       "      <td>1.0</td>\n",
       "      <td>...</td>\n",
       "      <td>1.2</td>\n",
       "      <td>65.0</td>\n",
       "      <td>97.0</td>\n",
       "      <td>72.0</td>\n",
       "      <td>No</td>\n",
       "      <td>No</td>\n",
       "      <td>1</td>\n",
       "      <td>0.0</td>\n",
       "      <td>0.0</td>\n",
       "      <td>12/29/2021</td>\n",
       "    </tr>\n",
       "    <tr>\n",
       "      <th>4</th>\n",
       "      <td>2020</td>\n",
       "      <td>5</td>\n",
       "      <td>41</td>\n",
       "      <td>F</td>\n",
       "      <td>12</td>\n",
       "      <td>155</td>\n",
       "      <td>50</td>\n",
       "      <td>75.2</td>\n",
       "      <td>1.5</td>\n",
       "      <td>1.2</td>\n",
       "      <td>...</td>\n",
       "      <td>0.7</td>\n",
       "      <td>18.0</td>\n",
       "      <td>17.0</td>\n",
       "      <td>14.0</td>\n",
       "      <td>No</td>\n",
       "      <td>No</td>\n",
       "      <td>0</td>\n",
       "      <td>NaN</td>\n",
       "      <td>NaN</td>\n",
       "      <td>12/29/2021</td>\n",
       "    </tr>\n",
       "    <tr>\n",
       "      <th>...</th>\n",
       "      <td>...</td>\n",
       "      <td>...</td>\n",
       "      <td>...</td>\n",
       "      <td>...</td>\n",
       "      <td>...</td>\n",
       "      <td>...</td>\n",
       "      <td>...</td>\n",
       "      <td>...</td>\n",
       "      <td>...</td>\n",
       "      <td>...</td>\n",
       "      <td>...</td>\n",
       "      <td>...</td>\n",
       "      <td>...</td>\n",
       "      <td>...</td>\n",
       "      <td>...</td>\n",
       "      <td>...</td>\n",
       "      <td>...</td>\n",
       "      <td>...</td>\n",
       "      <td>...</td>\n",
       "      <td>...</td>\n",
       "      <td>...</td>\n",
       "    </tr>\n",
       "    <tr>\n",
       "      <th>9995</th>\n",
       "      <td>2020</td>\n",
       "      <td>9996</td>\n",
       "      <td>44</td>\n",
       "      <td>F</td>\n",
       "      <td>13</td>\n",
       "      <td>155</td>\n",
       "      <td>55</td>\n",
       "      <td>83.0</td>\n",
       "      <td>1.2</td>\n",
       "      <td>1.2</td>\n",
       "      <td>...</td>\n",
       "      <td>0.7</td>\n",
       "      <td>20.0</td>\n",
       "      <td>21.0</td>\n",
       "      <td>20.0</td>\n",
       "      <td>No</td>\n",
       "      <td>Yes</td>\n",
       "      <td>0</td>\n",
       "      <td>NaN</td>\n",
       "      <td>NaN</td>\n",
       "      <td>12/29/2021</td>\n",
       "    </tr>\n",
       "    <tr>\n",
       "      <th>9996</th>\n",
       "      <td>2020</td>\n",
       "      <td>9997</td>\n",
       "      <td>43</td>\n",
       "      <td>F</td>\n",
       "      <td>11</td>\n",
       "      <td>160</td>\n",
       "      <td>55</td>\n",
       "      <td>77.5</td>\n",
       "      <td>1.0</td>\n",
       "      <td>1.2</td>\n",
       "      <td>...</td>\n",
       "      <td>0.7</td>\n",
       "      <td>24.0</td>\n",
       "      <td>22.0</td>\n",
       "      <td>21.0</td>\n",
       "      <td>No</td>\n",
       "      <td>Yes</td>\n",
       "      <td>1</td>\n",
       "      <td>0.0</td>\n",
       "      <td>0.0</td>\n",
       "      <td>12/29/2021</td>\n",
       "    </tr>\n",
       "    <tr>\n",
       "      <th>9997</th>\n",
       "      <td>2020</td>\n",
       "      <td>9998</td>\n",
       "      <td>45</td>\n",
       "      <td>M</td>\n",
       "      <td>12</td>\n",
       "      <td>160</td>\n",
       "      <td>80</td>\n",
       "      <td>93.0</td>\n",
       "      <td>0.6</td>\n",
       "      <td>0.6</td>\n",
       "      <td>...</td>\n",
       "      <td>1.0</td>\n",
       "      <td>22.0</td>\n",
       "      <td>27.0</td>\n",
       "      <td>35.0</td>\n",
       "      <td>No</td>\n",
       "      <td>No</td>\n",
       "      <td>0</td>\n",
       "      <td>NaN</td>\n",
       "      <td>NaN</td>\n",
       "      <td>12/29/2021</td>\n",
       "    </tr>\n",
       "    <tr>\n",
       "      <th>9998</th>\n",
       "      <td>2020</td>\n",
       "      <td>9999</td>\n",
       "      <td>27</td>\n",
       "      <td>F</td>\n",
       "      <td>15</td>\n",
       "      <td>155</td>\n",
       "      <td>55</td>\n",
       "      <td>78.0</td>\n",
       "      <td>0.6</td>\n",
       "      <td>1.0</td>\n",
       "      <td>...</td>\n",
       "      <td>1.0</td>\n",
       "      <td>26.0</td>\n",
       "      <td>24.0</td>\n",
       "      <td>21.0</td>\n",
       "      <td>No</td>\n",
       "      <td>No</td>\n",
       "      <td>0</td>\n",
       "      <td>NaN</td>\n",
       "      <td>NaN</td>\n",
       "      <td>12/29/2021</td>\n",
       "    </tr>\n",
       "    <tr>\n",
       "      <th>9999</th>\n",
       "      <td>2020</td>\n",
       "      <td>10000</td>\n",
       "      <td>45</td>\n",
       "      <td>F</td>\n",
       "      <td>13</td>\n",
       "      <td>160</td>\n",
       "      <td>75</td>\n",
       "      <td>100.0</td>\n",
       "      <td>0.5</td>\n",
       "      <td>0.5</td>\n",
       "      <td>...</td>\n",
       "      <td>0.6</td>\n",
       "      <td>32.0</td>\n",
       "      <td>24.0</td>\n",
       "      <td>30.0</td>\n",
       "      <td>NotNow</td>\n",
       "      <td>Yes</td>\n",
       "      <td>0</td>\n",
       "      <td>NaN</td>\n",
       "      <td>NaN</td>\n",
       "      <td>12/29/2021</td>\n",
       "    </tr>\n",
       "  </tbody>\n",
       "</table>\n",
       "<p>10000 rows × 31 columns</p>\n",
       "</div>"
      ],
      "text/plain": [
       "      기준년도  가입자일련번호  시도코드 성별  연령대코드(5세단위)  신장(5Cm단위)  체중(5Kg 단위)   허리둘레  \\\n",
       "0     2020        1    36  M            9        165          60   72.1   \n",
       "1     2020        2    27  F           13        150          65   81.0   \n",
       "2     2020        3    11  F           12        155          55   70.0   \n",
       "3     2020        4    31  M           13        160          70   90.8   \n",
       "4     2020        5    41  F           12        155          50   75.2   \n",
       "...    ...      ...   ... ..          ...        ...         ...    ...   \n",
       "9995  2020     9996    44  F           13        155          55   83.0   \n",
       "9996  2020     9997    43  F           11        160          55   77.5   \n",
       "9997  2020     9998    45  M           12        160          80   93.0   \n",
       "9998  2020     9999    27  F           15        155          55   78.0   \n",
       "9999  2020    10000    45  F           13        160          75  100.0   \n",
       "\n",
       "      시력(좌)  시력(우)  ...  혈청크레아티닌  (혈청지오티)AST  (혈청지오티)ALT  감마지티피    흡연상태  음주여부  \\\n",
       "0       1.2    1.5  ...      1.1        21.0        27.0   21.0      No    No   \n",
       "1       0.8    0.8  ...      0.5        18.0        15.0   15.0      No    No   \n",
       "2       0.6    0.7  ...      0.7        27.0        25.0    7.0      No    No   \n",
       "3       1.0    1.0  ...      1.2        65.0        97.0   72.0      No    No   \n",
       "4       1.5    1.2  ...      0.7        18.0        17.0   14.0      No    No   \n",
       "...     ...    ...  ...      ...         ...         ...    ...     ...   ...   \n",
       "9995    1.2    1.2  ...      0.7        20.0        21.0   20.0      No   Yes   \n",
       "9996    1.0    1.2  ...      0.7        24.0        22.0   21.0      No   Yes   \n",
       "9997    0.6    0.6  ...      1.0        22.0        27.0   35.0      No    No   \n",
       "9998    0.6    1.0  ...      1.0        26.0        24.0   21.0      No    No   \n",
       "9999    0.5    0.5  ...      0.6        32.0        24.0   30.0  NotNow   Yes   \n",
       "\n",
       "      구강검진수검여부  치아우식증유무   치석     데이터공개일자  \n",
       "0            0      NaN  NaN  12/29/2021  \n",
       "1            0      NaN  NaN  12/29/2021  \n",
       "2            0      NaN  NaN  12/29/2021  \n",
       "3            1      0.0  0.0  12/29/2021  \n",
       "4            0      NaN  NaN  12/29/2021  \n",
       "...        ...      ...  ...         ...  \n",
       "9995         0      NaN  NaN  12/29/2021  \n",
       "9996         1      0.0  0.0  12/29/2021  \n",
       "9997         0      NaN  NaN  12/29/2021  \n",
       "9998         0      NaN  NaN  12/29/2021  \n",
       "9999         0      NaN  NaN  12/29/2021  \n",
       "\n",
       "[10000 rows x 31 columns]"
      ]
     },
     "execution_count": 3,
     "metadata": {},
     "output_type": "execute_result"
    }
   ],
   "source": [
    "df"
   ]
  },
  {
   "cell_type": "code",
   "execution_count": 4,
   "id": "fec72eb2",
   "metadata": {
    "scrolled": false
   },
   "outputs": [
    {
     "name": "stdout",
     "output_type": "stream",
     "text": [
      "<class 'pandas.core.frame.DataFrame'>\n",
      "RangeIndex: 10000 entries, 0 to 9999\n",
      "Data columns (total 31 columns):\n",
      " #   Column       Non-Null Count  Dtype  \n",
      "---  ------       --------------  -----  \n",
      " 0   기준년도         10000 non-null  int64  \n",
      " 1   가입자일련번호      10000 non-null  int64  \n",
      " 2   시도코드         10000 non-null  int64  \n",
      " 3   성별           10000 non-null  object \n",
      " 4   연령대코드(5세단위)  10000 non-null  int64  \n",
      " 5   신장(5Cm단위)    10000 non-null  int64  \n",
      " 6   체중(5Kg 단위)   10000 non-null  int64  \n",
      " 7   허리둘레         10000 non-null  float64\n",
      " 8   시력(좌)        10000 non-null  float64\n",
      " 9   시력(우)        10000 non-null  float64\n",
      " 10  청력(좌)        10000 non-null  int64  \n",
      " 11  청력(우)        10000 non-null  int64  \n",
      " 12  수축기혈압        9912 non-null   float64\n",
      " 13  이완기혈압        9912 non-null   float64\n",
      " 14  식전혈당(공복혈당)   9912 non-null   float64\n",
      " 15  총콜레스테롤       4044 non-null   float64\n",
      " 16  트리글리세라이드     4044 non-null   float64\n",
      " 17  HDL콜레스테롤     4044 non-null   float64\n",
      " 18  LDL콜레스테롤     3977 non-null   float64\n",
      " 19  혈색소          9912 non-null   float64\n",
      " 20  요단백          9861 non-null   float64\n",
      " 21  혈청크레아티닌      9912 non-null   float64\n",
      " 22  (혈청지오티)AST   9912 non-null   float64\n",
      " 23  (혈청지오티)ALT   9912 non-null   float64\n",
      " 24  감마지티피        9912 non-null   float64\n",
      " 25  흡연상태         9998 non-null   object \n",
      " 26  음주여부         9999 non-null   object \n",
      " 27  구강검진수검여부     10000 non-null  int64  \n",
      " 28  치아우식증유무      3251 non-null   float64\n",
      " 29  치석           3251 non-null   float64\n",
      " 30  데이터공개일자      10000 non-null  object \n",
      "dtypes: float64(18), int64(9), object(4)\n",
      "memory usage: 2.4+ MB\n"
     ]
    },
    {
     "data": {
      "text/plain": [
       "None"
      ]
     },
     "metadata": {},
     "output_type": "display_data"
    },
    {
     "data": {
      "text/plain": [
       "기준년도              0\n",
       "가입자일련번호           0\n",
       "시도코드              0\n",
       "성별                0\n",
       "연령대코드(5세단위)       0\n",
       "신장(5Cm단위)         0\n",
       "체중(5Kg 단위)        0\n",
       "허리둘레              0\n",
       "시력(좌)             0\n",
       "시력(우)             0\n",
       "청력(좌)             0\n",
       "청력(우)             0\n",
       "수축기혈압            88\n",
       "이완기혈압            88\n",
       "식전혈당(공복혈당)       88\n",
       "총콜레스테롤         5956\n",
       "트리글리세라이드       5956\n",
       "HDL콜레스테롤       5956\n",
       "LDL콜레스테롤       6023\n",
       "혈색소              88\n",
       "요단백             139\n",
       "혈청크레아티닌          88\n",
       "(혈청지오티)AST       88\n",
       "(혈청지오티)ALT       88\n",
       "감마지티피            88\n",
       "흡연상태              2\n",
       "음주여부              1\n",
       "구강검진수검여부          0\n",
       "치아우식증유무        6749\n",
       "치석             6749\n",
       "데이터공개일자           0\n",
       "dtype: int64"
      ]
     },
     "metadata": {},
     "output_type": "display_data"
    },
    {
     "data": {
      "text/html": [
       "<div>\n",
       "<style scoped>\n",
       "    .dataframe tbody tr th:only-of-type {\n",
       "        vertical-align: middle;\n",
       "    }\n",
       "\n",
       "    .dataframe tbody tr th {\n",
       "        vertical-align: top;\n",
       "    }\n",
       "\n",
       "    .dataframe thead th {\n",
       "        text-align: right;\n",
       "    }\n",
       "</style>\n",
       "<table border=\"1\" class=\"dataframe\">\n",
       "  <thead>\n",
       "    <tr style=\"text-align: right;\">\n",
       "      <th></th>\n",
       "      <th>기준년도</th>\n",
       "      <th>가입자일련번호</th>\n",
       "      <th>시도코드</th>\n",
       "      <th>성별</th>\n",
       "      <th>연령대코드(5세단위)</th>\n",
       "      <th>신장(5Cm단위)</th>\n",
       "      <th>체중(5Kg 단위)</th>\n",
       "      <th>허리둘레</th>\n",
       "      <th>시력(좌)</th>\n",
       "      <th>시력(우)</th>\n",
       "      <th>...</th>\n",
       "      <th>혈청크레아티닌</th>\n",
       "      <th>(혈청지오티)AST</th>\n",
       "      <th>(혈청지오티)ALT</th>\n",
       "      <th>감마지티피</th>\n",
       "      <th>흡연상태</th>\n",
       "      <th>음주여부</th>\n",
       "      <th>구강검진수검여부</th>\n",
       "      <th>치아우식증유무</th>\n",
       "      <th>치석</th>\n",
       "      <th>데이터공개일자</th>\n",
       "    </tr>\n",
       "  </thead>\n",
       "  <tbody>\n",
       "    <tr>\n",
       "      <th>0</th>\n",
       "      <td>2020</td>\n",
       "      <td>1</td>\n",
       "      <td>36</td>\n",
       "      <td>M</td>\n",
       "      <td>9</td>\n",
       "      <td>165</td>\n",
       "      <td>60</td>\n",
       "      <td>72.1</td>\n",
       "      <td>1.2</td>\n",
       "      <td>1.5</td>\n",
       "      <td>...</td>\n",
       "      <td>1.1</td>\n",
       "      <td>21.0</td>\n",
       "      <td>27.0</td>\n",
       "      <td>21.0</td>\n",
       "      <td>No</td>\n",
       "      <td>No</td>\n",
       "      <td>0</td>\n",
       "      <td>NaN</td>\n",
       "      <td>NaN</td>\n",
       "      <td>12/29/2021</td>\n",
       "    </tr>\n",
       "    <tr>\n",
       "      <th>1</th>\n",
       "      <td>2020</td>\n",
       "      <td>2</td>\n",
       "      <td>27</td>\n",
       "      <td>F</td>\n",
       "      <td>13</td>\n",
       "      <td>150</td>\n",
       "      <td>65</td>\n",
       "      <td>81.0</td>\n",
       "      <td>0.8</td>\n",
       "      <td>0.8</td>\n",
       "      <td>...</td>\n",
       "      <td>0.5</td>\n",
       "      <td>18.0</td>\n",
       "      <td>15.0</td>\n",
       "      <td>15.0</td>\n",
       "      <td>No</td>\n",
       "      <td>No</td>\n",
       "      <td>0</td>\n",
       "      <td>NaN</td>\n",
       "      <td>NaN</td>\n",
       "      <td>12/29/2021</td>\n",
       "    </tr>\n",
       "    <tr>\n",
       "      <th>2</th>\n",
       "      <td>2020</td>\n",
       "      <td>3</td>\n",
       "      <td>11</td>\n",
       "      <td>F</td>\n",
       "      <td>12</td>\n",
       "      <td>155</td>\n",
       "      <td>55</td>\n",
       "      <td>70.0</td>\n",
       "      <td>0.6</td>\n",
       "      <td>0.7</td>\n",
       "      <td>...</td>\n",
       "      <td>0.7</td>\n",
       "      <td>27.0</td>\n",
       "      <td>25.0</td>\n",
       "      <td>7.0</td>\n",
       "      <td>No</td>\n",
       "      <td>No</td>\n",
       "      <td>0</td>\n",
       "      <td>NaN</td>\n",
       "      <td>NaN</td>\n",
       "      <td>12/29/2021</td>\n",
       "    </tr>\n",
       "    <tr>\n",
       "      <th>3</th>\n",
       "      <td>2020</td>\n",
       "      <td>4</td>\n",
       "      <td>31</td>\n",
       "      <td>M</td>\n",
       "      <td>13</td>\n",
       "      <td>160</td>\n",
       "      <td>70</td>\n",
       "      <td>90.8</td>\n",
       "      <td>1.0</td>\n",
       "      <td>1.0</td>\n",
       "      <td>...</td>\n",
       "      <td>1.2</td>\n",
       "      <td>65.0</td>\n",
       "      <td>97.0</td>\n",
       "      <td>72.0</td>\n",
       "      <td>No</td>\n",
       "      <td>No</td>\n",
       "      <td>1</td>\n",
       "      <td>0.0</td>\n",
       "      <td>0.0</td>\n",
       "      <td>12/29/2021</td>\n",
       "    </tr>\n",
       "    <tr>\n",
       "      <th>4</th>\n",
       "      <td>2020</td>\n",
       "      <td>5</td>\n",
       "      <td>41</td>\n",
       "      <td>F</td>\n",
       "      <td>12</td>\n",
       "      <td>155</td>\n",
       "      <td>50</td>\n",
       "      <td>75.2</td>\n",
       "      <td>1.5</td>\n",
       "      <td>1.2</td>\n",
       "      <td>...</td>\n",
       "      <td>0.7</td>\n",
       "      <td>18.0</td>\n",
       "      <td>17.0</td>\n",
       "      <td>14.0</td>\n",
       "      <td>No</td>\n",
       "      <td>No</td>\n",
       "      <td>0</td>\n",
       "      <td>NaN</td>\n",
       "      <td>NaN</td>\n",
       "      <td>12/29/2021</td>\n",
       "    </tr>\n",
       "    <tr>\n",
       "      <th>5</th>\n",
       "      <td>2020</td>\n",
       "      <td>6</td>\n",
       "      <td>27</td>\n",
       "      <td>M</td>\n",
       "      <td>9</td>\n",
       "      <td>185</td>\n",
       "      <td>85</td>\n",
       "      <td>94.0</td>\n",
       "      <td>1.2</td>\n",
       "      <td>1.2</td>\n",
       "      <td>...</td>\n",
       "      <td>1.1</td>\n",
       "      <td>25.0</td>\n",
       "      <td>32.0</td>\n",
       "      <td>26.0</td>\n",
       "      <td>Yes</td>\n",
       "      <td>Yes</td>\n",
       "      <td>0</td>\n",
       "      <td>NaN</td>\n",
       "      <td>NaN</td>\n",
       "      <td>12/29/2021</td>\n",
       "    </tr>\n",
       "    <tr>\n",
       "      <th>6</th>\n",
       "      <td>2020</td>\n",
       "      <td>7</td>\n",
       "      <td>44</td>\n",
       "      <td>M</td>\n",
       "      <td>9</td>\n",
       "      <td>165</td>\n",
       "      <td>80</td>\n",
       "      <td>93.0</td>\n",
       "      <td>0.8</td>\n",
       "      <td>0.7</td>\n",
       "      <td>...</td>\n",
       "      <td>0.7</td>\n",
       "      <td>18.0</td>\n",
       "      <td>20.0</td>\n",
       "      <td>35.0</td>\n",
       "      <td>Yes</td>\n",
       "      <td>Yes</td>\n",
       "      <td>1</td>\n",
       "      <td>0.0</td>\n",
       "      <td>1.0</td>\n",
       "      <td>12/29/2021</td>\n",
       "    </tr>\n",
       "    <tr>\n",
       "      <th>7</th>\n",
       "      <td>2020</td>\n",
       "      <td>8</td>\n",
       "      <td>41</td>\n",
       "      <td>M</td>\n",
       "      <td>13</td>\n",
       "      <td>160</td>\n",
       "      <td>65</td>\n",
       "      <td>92.0</td>\n",
       "      <td>0.5</td>\n",
       "      <td>0.5</td>\n",
       "      <td>...</td>\n",
       "      <td>1.2</td>\n",
       "      <td>18.0</td>\n",
       "      <td>17.0</td>\n",
       "      <td>19.0</td>\n",
       "      <td>Yes</td>\n",
       "      <td>No</td>\n",
       "      <td>1</td>\n",
       "      <td>0.0</td>\n",
       "      <td>2.0</td>\n",
       "      <td>12/29/2021</td>\n",
       "    </tr>\n",
       "    <tr>\n",
       "      <th>8</th>\n",
       "      <td>2020</td>\n",
       "      <td>9</td>\n",
       "      <td>41</td>\n",
       "      <td>F</td>\n",
       "      <td>17</td>\n",
       "      <td>150</td>\n",
       "      <td>50</td>\n",
       "      <td>82.0</td>\n",
       "      <td>0.4</td>\n",
       "      <td>0.5</td>\n",
       "      <td>...</td>\n",
       "      <td>0.7</td>\n",
       "      <td>42.0</td>\n",
       "      <td>48.0</td>\n",
       "      <td>39.0</td>\n",
       "      <td>No</td>\n",
       "      <td>No</td>\n",
       "      <td>0</td>\n",
       "      <td>NaN</td>\n",
       "      <td>NaN</td>\n",
       "      <td>12/29/2021</td>\n",
       "    </tr>\n",
       "    <tr>\n",
       "      <th>9</th>\n",
       "      <td>2020</td>\n",
       "      <td>10</td>\n",
       "      <td>48</td>\n",
       "      <td>F</td>\n",
       "      <td>14</td>\n",
       "      <td>150</td>\n",
       "      <td>45</td>\n",
       "      <td>71.2</td>\n",
       "      <td>0.8</td>\n",
       "      <td>0.7</td>\n",
       "      <td>...</td>\n",
       "      <td>0.6</td>\n",
       "      <td>22.0</td>\n",
       "      <td>11.0</td>\n",
       "      <td>10.0</td>\n",
       "      <td>No</td>\n",
       "      <td>No</td>\n",
       "      <td>0</td>\n",
       "      <td>NaN</td>\n",
       "      <td>NaN</td>\n",
       "      <td>12/29/2021</td>\n",
       "    </tr>\n",
       "  </tbody>\n",
       "</table>\n",
       "<p>10 rows × 31 columns</p>\n",
       "</div>"
      ],
      "text/plain": [
       "   기준년도  가입자일련번호  시도코드 성별  연령대코드(5세단위)  신장(5Cm단위)  체중(5Kg 단위)  허리둘레  시력(좌)  \\\n",
       "0  2020        1    36  M            9        165          60  72.1    1.2   \n",
       "1  2020        2    27  F           13        150          65  81.0    0.8   \n",
       "2  2020        3    11  F           12        155          55  70.0    0.6   \n",
       "3  2020        4    31  M           13        160          70  90.8    1.0   \n",
       "4  2020        5    41  F           12        155          50  75.2    1.5   \n",
       "5  2020        6    27  M            9        185          85  94.0    1.2   \n",
       "6  2020        7    44  M            9        165          80  93.0    0.8   \n",
       "7  2020        8    41  M           13        160          65  92.0    0.5   \n",
       "8  2020        9    41  F           17        150          50  82.0    0.4   \n",
       "9  2020       10    48  F           14        150          45  71.2    0.8   \n",
       "\n",
       "   시력(우)  ...  혈청크레아티닌  (혈청지오티)AST  (혈청지오티)ALT  감마지티피  흡연상태  음주여부  구강검진수검여부  \\\n",
       "0    1.5  ...      1.1        21.0        27.0   21.0    No    No         0   \n",
       "1    0.8  ...      0.5        18.0        15.0   15.0    No    No         0   \n",
       "2    0.7  ...      0.7        27.0        25.0    7.0    No    No         0   \n",
       "3    1.0  ...      1.2        65.0        97.0   72.0    No    No         1   \n",
       "4    1.2  ...      0.7        18.0        17.0   14.0    No    No         0   \n",
       "5    1.2  ...      1.1        25.0        32.0   26.0   Yes   Yes         0   \n",
       "6    0.7  ...      0.7        18.0        20.0   35.0   Yes   Yes         1   \n",
       "7    0.5  ...      1.2        18.0        17.0   19.0   Yes    No         1   \n",
       "8    0.5  ...      0.7        42.0        48.0   39.0    No    No         0   \n",
       "9    0.7  ...      0.6        22.0        11.0   10.0    No    No         0   \n",
       "\n",
       "   치아우식증유무   치석     데이터공개일자  \n",
       "0      NaN  NaN  12/29/2021  \n",
       "1      NaN  NaN  12/29/2021  \n",
       "2      NaN  NaN  12/29/2021  \n",
       "3      0.0  0.0  12/29/2021  \n",
       "4      NaN  NaN  12/29/2021  \n",
       "5      NaN  NaN  12/29/2021  \n",
       "6      0.0  1.0  12/29/2021  \n",
       "7      0.0  2.0  12/29/2021  \n",
       "8      NaN  NaN  12/29/2021  \n",
       "9      NaN  NaN  12/29/2021  \n",
       "\n",
       "[10 rows x 31 columns]"
      ]
     },
     "metadata": {},
     "output_type": "display_data"
    }
   ],
   "source": [
    "display(df.info()) # 데이터타입, null정보등 확인\n",
    "display(df.isna().sum()) # 결측치 수\n",
    "display(df.head(10))"
   ]
  },
  {
   "cell_type": "markdown",
   "id": "2a930e14",
   "metadata": {},
   "source": [
    "### 1.음주량이 가장 많은 연령대 top3의 평균 혈압"
   ]
  },
  {
   "cell_type": "code",
   "execution_count": 5,
   "id": "98053323",
   "metadata": {
    "scrolled": false
   },
   "outputs": [
    {
     "name": "stdout",
     "output_type": "stream",
     "text": [
      "124.66969330104924 76.78974979822438\n"
     ]
    }
   ],
   "source": [
    "bp_h = df['수축기혈압'].mean()\n",
    "bp_l =df['이완기혈압'].mean()\n",
    "print(bp_h,bp_l)"
   ]
  },
  {
   "cell_type": "code",
   "execution_count": 7,
   "id": "1ee4e4e4",
   "metadata": {},
   "outputs": [],
   "source": [
    "df['수축기혈압'].fillna(124.67, inplace=True)"
   ]
  },
  {
   "cell_type": "code",
   "execution_count": 8,
   "id": "9c48f026",
   "metadata": {},
   "outputs": [
    {
     "data": {
      "text/plain": [
       "0"
      ]
     },
     "metadata": {},
     "output_type": "display_data"
    }
   ],
   "source": [
    "display(df['수축기혈압'].isna().sum())"
   ]
  },
  {
   "cell_type": "code",
   "execution_count": 9,
   "id": "30683886",
   "metadata": {},
   "outputs": [],
   "source": [
    "df['이완기혈압'].fillna(76.79, inplace=True)"
   ]
  },
  {
   "cell_type": "code",
   "execution_count": 10,
   "id": "4efc3967",
   "metadata": {},
   "outputs": [
    {
     "data": {
      "text/plain": [
       "0"
      ]
     },
     "metadata": {},
     "output_type": "display_data"
    }
   ],
   "source": [
    "display(df['이완기혈압'].isna().sum())"
   ]
  },
  {
   "cell_type": "code",
   "execution_count": 11,
   "id": "46beef8c",
   "metadata": {},
   "outputs": [
    {
     "name": "stdout",
     "output_type": "stream",
     "text": [
      "124.669696 76.78975200000001\n"
     ]
    }
   ],
   "source": [
    "bp_h = df['수축기혈압'].mean()\n",
    "bp_l =df['이완기혈압'].mean()\n",
    "print(bp_h,bp_l)"
   ]
  },
  {
   "cell_type": "code",
   "execution_count": 12,
   "id": "b7ae6002",
   "metadata": {},
   "outputs": [],
   "source": [
    "df['음주여부'].fillna('Yes', inplace=True)"
   ]
  },
  {
   "cell_type": "code",
   "execution_count": 13,
   "id": "370402aa",
   "metadata": {},
   "outputs": [
    {
     "data": {
      "text/plain": [
       "0"
      ]
     },
     "execution_count": 13,
     "metadata": {},
     "output_type": "execute_result"
    }
   ],
   "source": [
    "df['음주여부'].isna().sum()"
   ]
  },
  {
   "cell_type": "code",
   "execution_count": 14,
   "id": "66695ec1",
   "metadata": {
    "scrolled": true
   },
   "outputs": [
    {
     "data": {
      "text/plain": [
       "연령대코드(5세단위)  음주여부\n",
       "9            Yes     1202\n",
       "             No       345\n",
       "10           Yes     1023\n",
       "             No       346\n",
       "11           Yes     1213\n",
       "             No       585\n",
       "12           Yes      924\n",
       "             No       574\n",
       "13           No       805\n",
       "             Yes      729\n",
       "14           No       522\n",
       "             Yes      343\n",
       "15           No       462\n",
       "             Yes      236\n",
       "16           No       296\n",
       "             Yes       81\n",
       "17           No       198\n",
       "             Yes       61\n",
       "18           No        47\n",
       "             Yes        8\n",
       "Name: 음주여부, dtype: int64"
      ]
     },
     "execution_count": 14,
     "metadata": {},
     "output_type": "execute_result"
    }
   ],
   "source": [
    "df.groupby('연령대코드(5세단위)')['음주여부'].value_counts() #top3 11,9,10 순"
   ]
  },
  {
   "cell_type": "code",
   "execution_count": 39,
   "id": "e0019b8f",
   "metadata": {},
   "outputs": [
    {
     "data": {
      "text/plain": [
       "<AxesSubplot:xlabel='연령대코드(5세단위)', ylabel='음주여부'>"
      ]
     },
     "execution_count": 39,
     "metadata": {},
     "output_type": "execute_result"
    },
    {
     "data": {
      "image/png": "[encoded data removed]",
      "text/plain": [
       "<Figure size 432x288 with 1 Axes>"
      ]
     },
     "metadata": {
      "needs_background": "light"
     },
     "output_type": "display_data"
    }
   ],
   "source": [
    "sns.lineplot(data = df, x = '연령대코드(5세단위)', y = '음주여부')"
   ]
  },
  {
   "cell_type": "code",
   "execution_count": 42,
   "id": "9bc3ebd1",
   "metadata": {
    "scrolled": false
   },
   "outputs": [
    {
     "data": {
      "text/html": [
       "<div>\n",
       "<style scoped>\n",
       "    .dataframe tbody tr th:only-of-type {\n",
       "        vertical-align: middle;\n",
       "    }\n",
       "\n",
       "    .dataframe tbody tr th {\n",
       "        vertical-align: top;\n",
       "    }\n",
       "\n",
       "    .dataframe thead th {\n",
       "        text-align: right;\n",
       "    }\n",
       "</style>\n",
       "<table border=\"1\" class=\"dataframe\">\n",
       "  <thead>\n",
       "    <tr style=\"text-align: right;\">\n",
       "      <th></th>\n",
       "      <th>연령대코드(5세단위)</th>\n",
       "      <th>mean_bph</th>\n",
       "      <th>mean_bpl</th>\n",
       "    </tr>\n",
       "  </thead>\n",
       "  <tbody>\n",
       "    <tr>\n",
       "      <th>0</th>\n",
       "      <td>9</td>\n",
       "      <td>120.862314</td>\n",
       "      <td>76.317388</td>\n",
       "    </tr>\n",
       "    <tr>\n",
       "      <th>1</th>\n",
       "      <td>10</td>\n",
       "      <td>121.842951</td>\n",
       "      <td>77.081812</td>\n",
       "    </tr>\n",
       "    <tr>\n",
       "      <th>2</th>\n",
       "      <td>11</td>\n",
       "      <td>123.141268</td>\n",
       "      <td>77.377642</td>\n",
       "    </tr>\n",
       "    <tr>\n",
       "      <th>3</th>\n",
       "      <td>12</td>\n",
       "      <td>124.214286</td>\n",
       "      <td>77.389853</td>\n",
       "    </tr>\n",
       "    <tr>\n",
       "      <th>4</th>\n",
       "      <td>13</td>\n",
       "      <td>126.187093</td>\n",
       "      <td>77.104302</td>\n",
       "    </tr>\n",
       "    <tr>\n",
       "      <th>5</th>\n",
       "      <td>14</td>\n",
       "      <td>128.449792</td>\n",
       "      <td>76.648081</td>\n",
       "    </tr>\n",
       "    <tr>\n",
       "      <th>6</th>\n",
       "      <td>15</td>\n",
       "      <td>129.555989</td>\n",
       "      <td>75.711977</td>\n",
       "    </tr>\n",
       "    <tr>\n",
       "      <th>7</th>\n",
       "      <td>16</td>\n",
       "      <td>131.096552</td>\n",
       "      <td>75.291247</td>\n",
       "    </tr>\n",
       "    <tr>\n",
       "      <th>8</th>\n",
       "      <td>17</td>\n",
       "      <td>130.634710</td>\n",
       "      <td>74.827915</td>\n",
       "    </tr>\n",
       "    <tr>\n",
       "      <th>9</th>\n",
       "      <td>18</td>\n",
       "      <td>128.564000</td>\n",
       "      <td>73.886182</td>\n",
       "    </tr>\n",
       "  </tbody>\n",
       "</table>\n",
       "</div>"
      ],
      "text/plain": [
       "   연령대코드(5세단위)    mean_bph   mean_bpl\n",
       "0            9  120.862314  76.317388\n",
       "1           10  121.842951  77.081812\n",
       "2           11  123.141268  77.377642\n",
       "3           12  124.214286  77.389853\n",
       "4           13  126.187093  77.104302\n",
       "5           14  128.449792  76.648081\n",
       "6           15  129.555989  75.711977\n",
       "7           16  131.096552  75.291247\n",
       "8           17  130.634710  74.827915\n",
       "9           18  128.564000  73.886182"
      ]
     },
     "execution_count": 42,
     "metadata": {},
     "output_type": "execute_result"
    }
   ],
   "source": [
    "df_1 = df.groupby('연령대코드(5세단위)' , as_index = False).agg( mean_bph = ('수축기혈압', 'mean'), \n",
    "                                                        mean_bpl = ('이완기혈압', 'mean'))\n",
    "df_1"
   ]
  },
  {
   "cell_type": "code",
   "execution_count": 43,
   "id": "8a3e03f0",
   "metadata": {
    "scrolled": true
   },
   "outputs": [
    {
     "data": {
      "text/plain": [
       "<AxesSubplot:xlabel='연령대코드(5세단위)', ylabel='mean_bph'>"
      ]
     },
     "execution_count": 43,
     "metadata": {},
     "output_type": "execute_result"
    },
    {
     "data": {
      "image/png": "[encoded data removed]",
      "text/plain": [
       "<Figure size 432x288 with 1 Axes>"
      ]
     },
     "metadata": {
      "needs_background": "light"
     },
     "output_type": "display_data"
    }
   ],
   "source": [
    "sns.barplot(data = df_1, x = '연령대코드(5세단위)', y = 'mean_bph')"
   ]
  },
  {
   "cell_type": "code",
   "execution_count": 44,
   "id": "c61c513e",
   "metadata": {},
   "outputs": [
    {
     "data": {
      "text/plain": [
       "<AxesSubplot:xlabel='연령대코드(5세단위)', ylabel='mean_bpl'>"
      ]
     },
     "execution_count": 44,
     "metadata": {},
     "output_type": "execute_result"
    },
    {
     "data": {
      "image/png": "[encoded data removed]",
      "text/plain": [
       "<Figure size 432x288 with 1 Axes>"
      ]
     },
     "metadata": {
      "needs_background": "light"
     },
     "output_type": "display_data"
    }
   ],
   "source": [
    "sns.barplot(data = df_1, x = '연령대코드(5세단위)', y = 'mean_bpl')"
   ]
  },
  {
   "cell_type": "code",
   "execution_count": 49,
   "id": "aeecfd5d",
   "metadata": {
    "scrolled": true
   },
   "outputs": [
    {
     "data": {
      "text/plain": [
       "[<matplotlib.lines.Line2D at 0x23f1ab969d0>]"
      ]
     },
     "execution_count": 49,
     "metadata": {},
     "output_type": "execute_result"
    },
    {
     "data": {
      "image/png": "[encoded data removed]",
      "text/plain": [
       "<Figure size 432x288 with 1 Axes>"
      ]
     },
     "metadata": {
      "needs_background": "light"
     },
     "output_type": "display_data"
    }
   ],
   "source": [
    "\n",
    "plt.title(\"연령대에 따른 수축기혈압 평균\")\n",
    "plt.plot(['9','10','11','12','13','14','15','16','17','18'], \n",
    "         [120.86,121.84,123.14, 124.21, 126.19, 128.45, 129.56, 131.1, 130.63, 128.56], marker=\">\",  color='blue')"
   ]
  },
  {
   "cell_type": "code",
   "execution_count": 51,
   "id": "004d69b3",
   "metadata": {},
   "outputs": [
    {
     "data": {
      "text/plain": [
       "[<matplotlib.lines.Line2D at 0x23f1abfd940>]"
      ]
     },
     "execution_count": 51,
     "metadata": {},
     "output_type": "execute_result"
    },
    {
     "data": {
      "image/png": "[encoded data removed]",
      "text/plain": [
       "<Figure size 432x288 with 1 Axes>"
      ]
     },
     "metadata": {
      "needs_background": "light"
     },
     "output_type": "display_data"
    }
   ],
   "source": [
    "\n",
    "plt.title(\"연령대에 따른 이완기혈압 평균\")\n",
    "plt.plot(['9','10','11','12','13','14','15','16','17','18'], \n",
    "         [76.31, 77.08,77.38, 77.39, 77.1, 76.65, 75.71, 75.29, 74.83, 73.89], marker=\">\",  color='red')"
   ]
  },
  {
   "cell_type": "markdown",
   "id": "ffc89957",
   "metadata": {
    "scrolled": true
   },
   "source": [
    "#### 결론\n",
    "- 수축기 혈압 평균에서는 연령 코드 중16,17,15 순으로 높은 수치를 보이고  \n",
    "이완기 혈압에서는 12,11,10 순으로 높은 수치를 보인다."
   ]
  },
  {
   "cell_type": "markdown",
   "id": "b8b45a0e",
   "metadata": {},
   "source": [
    "### 2. 연령에 따른 식전혈당(공복혈당)"
   ]
  },
  {
   "cell_type": "code",
   "execution_count": 20,
   "id": "0f74f215",
   "metadata": {},
   "outputs": [
    {
     "data": {
      "text/plain": [
       "103.77754237288136"
      ]
     },
     "execution_count": 20,
     "metadata": {},
     "output_type": "execute_result"
    }
   ],
   "source": [
    "blds = df['식전혈당(공복혈당)'].mean() #103.78\n",
    "blds"
   ]
  },
  {
   "cell_type": "code",
   "execution_count": 21,
   "id": "b1916850",
   "metadata": {},
   "outputs": [],
   "source": [
    "df['식전혈당(공복혈당)'].fillna(103.78, inplace=True)"
   ]
  },
  {
   "cell_type": "code",
   "execution_count": 22,
   "id": "fb12f41b",
   "metadata": {},
   "outputs": [
    {
     "data": {
      "text/plain": [
       "103.77756399999998"
      ]
     },
     "execution_count": 22,
     "metadata": {},
     "output_type": "execute_result"
    }
   ],
   "source": [
    "blds = df['식전혈당(공복혈당)'].mean() #103.78\n",
    "blds"
   ]
  },
  {
   "cell_type": "code",
   "execution_count": 23,
   "id": "a71f7ce1",
   "metadata": {},
   "outputs": [
    {
     "data": {
      "text/html": [
       "<div>\n",
       "<style scoped>\n",
       "    .dataframe tbody tr th:only-of-type {\n",
       "        vertical-align: middle;\n",
       "    }\n",
       "\n",
       "    .dataframe tbody tr th {\n",
       "        vertical-align: top;\n",
       "    }\n",
       "\n",
       "    .dataframe thead th {\n",
       "        text-align: right;\n",
       "    }\n",
       "</style>\n",
       "<table border=\"1\" class=\"dataframe\">\n",
       "  <thead>\n",
       "    <tr style=\"text-align: right;\">\n",
       "      <th></th>\n",
       "      <th>연령대코드(5세단위)</th>\n",
       "      <th>mean_blds</th>\n",
       "    </tr>\n",
       "  </thead>\n",
       "  <tbody>\n",
       "    <tr>\n",
       "      <th>0</th>\n",
       "      <td>9</td>\n",
       "      <td>98.521655</td>\n",
       "    </tr>\n",
       "    <tr>\n",
       "      <th>1</th>\n",
       "      <td>10</td>\n",
       "      <td>102.371074</td>\n",
       "    </tr>\n",
       "    <tr>\n",
       "      <th>2</th>\n",
       "      <td>11</td>\n",
       "      <td>102.956618</td>\n",
       "    </tr>\n",
       "    <tr>\n",
       "      <th>3</th>\n",
       "      <td>12</td>\n",
       "      <td>104.818425</td>\n",
       "    </tr>\n",
       "    <tr>\n",
       "      <th>4</th>\n",
       "      <td>13</td>\n",
       "      <td>105.002608</td>\n",
       "    </tr>\n",
       "    <tr>\n",
       "      <th>5</th>\n",
       "      <td>14</td>\n",
       "      <td>105.451306</td>\n",
       "    </tr>\n",
       "    <tr>\n",
       "      <th>6</th>\n",
       "      <td>15</td>\n",
       "      <td>108.575530</td>\n",
       "    </tr>\n",
       "    <tr>\n",
       "      <th>7</th>\n",
       "      <td>16</td>\n",
       "      <td>108.280106</td>\n",
       "    </tr>\n",
       "    <tr>\n",
       "      <th>8</th>\n",
       "      <td>17</td>\n",
       "      <td>109.707568</td>\n",
       "    </tr>\n",
       "    <tr>\n",
       "      <th>9</th>\n",
       "      <td>18</td>\n",
       "      <td>104.939636</td>\n",
       "    </tr>\n",
       "  </tbody>\n",
       "</table>\n",
       "</div>"
      ],
      "text/plain": [
       "   연령대코드(5세단위)   mean_blds\n",
       "0            9   98.521655\n",
       "1           10  102.371074\n",
       "2           11  102.956618\n",
       "3           12  104.818425\n",
       "4           13  105.002608\n",
       "5           14  105.451306\n",
       "6           15  108.575530\n",
       "7           16  108.280106\n",
       "8           17  109.707568\n",
       "9           18  104.939636"
      ]
     },
     "execution_count": 23,
     "metadata": {},
     "output_type": "execute_result"
    }
   ],
   "source": [
    "df_2 = df.groupby('연령대코드(5세단위)' , as_index = False).agg( mean_blds = ('식전혈당(공복혈당)', 'mean'))\n",
    "df_2"
   ]
  },
  {
   "cell_type": "code",
   "execution_count": 24,
   "id": "d1fb7ed0",
   "metadata": {},
   "outputs": [
    {
     "data": {
      "text/plain": [
       "<AxesSubplot:xlabel='연령대코드(5세단위)', ylabel='mean_blds'>"
      ]
     },
     "execution_count": 24,
     "metadata": {},
     "output_type": "execute_result"
    },
    {
     "data": {
      "image/png": "[encoded data removed]",
      "text/plain": [
       "<Figure size 432x288 with 1 Axes>"
      ]
     },
     "metadata": {
      "needs_background": "light"
     },
     "output_type": "display_data"
    }
   ],
   "source": [
    "sns.barplot(data = df_2, x = '연령대코드(5세단위)', y = 'mean_blds')"
   ]
  },
  {
   "cell_type": "code",
   "execution_count": 25,
   "id": "fb60a6ec",
   "metadata": {},
   "outputs": [
    {
     "data": {
      "text/plain": [
       "<matplotlib.legend.Legend at 0x23f11942880>"
      ]
     },
     "execution_count": 25,
     "metadata": {},
     "output_type": "execute_result"
    },
    {
     "data": {
      "image/png": "[encoded data removed]",
      "text/plain": [
       "<Figure size 432x288 with 1 Axes>"
      ]
     },
     "metadata": {
      "needs_background": "light"
     },
     "output_type": "display_data"
    }
   ],
   "source": [
    "x= [9,10, 11, 12, 13, 14, 15, 16, 17, 18]\n",
    "y= [98.52, 102.37, 102.96, 104.82, 105, 105.45, 108.58, 108.28, 109.7, 104.94]\n",
    "plt.title('연령별 식전혈당 평균')\n",
    "plt.xlabel('연령코드')\n",
    "plt.ylabel('식전혈당 평균')\n",
    "plt.plot(x, y, label='평균')\n",
    "plt.legend()"
   ]
  },
  {
   "cell_type": "code",
   "execution_count": 26,
   "id": "90d4418d",
   "metadata": {
    "scrolled": true
   },
   "outputs": [
    {
     "data": {
      "text/plain": [
       "Text(0, 0.5, '식전혈당 평균')"
      ]
     },
     "execution_count": 26,
     "metadata": {},
     "output_type": "execute_result"
    },
    {
     "data": {
      "image/png": "[encoded data removed]",
      "text/plain": [
       "<Figure size 432x288 with 1 Axes>"
      ]
     },
     "metadata": {
      "needs_background": "light"
     },
     "output_type": "display_data"
    }
   ],
   "source": [
    "plt.scatter([9, 10, 11, 12, 13, 14, 15, 16, 17, 18],\n",
    "            [98.52, 102.37, 102.96, 104.82, 105, 105.45, 108.58, 108.28, 109.7, 104.94])\n",
    "plt.title('연령별 식전혈당 평균') #그래프의 제목\n",
    "plt.xlabel('연령코드')\n",
    "plt.ylabel('식전혈당 평균')"
   ]
  },
  {
   "cell_type": "markdown",
   "id": "3f430735",
   "metadata": {},
   "source": [
    "#### 식전혈당 평균은 17(80부터 84세), 15(70부터 74세), 16(75부터 79세)순으로 높다. "
   ]
  },
  {
   "cell_type": "code",
   "execution_count": 27,
   "id": "e796ee33",
   "metadata": {
    "scrolled": false
   },
   "outputs": [
    {
     "data": {
      "text/plain": [
       "<AxesSubplot:xlabel='연령대코드(5세단위)', ylabel='식전혈당(공복혈당)'>"
      ]
     },
     "execution_count": 27,
     "metadata": {},
     "output_type": "execute_result"
    },
    {
     "data": {
      "image/png": "[encoded data removed]",
      "text/plain": [
       "<Figure size 432x288 with 1 Axes>"
      ]
     },
     "metadata": {
      "needs_background": "light"
     },
     "output_type": "display_data"
    }
   ],
   "source": [
    "sns.barplot(data = df, x = '연령대코드(5세단위)', y = '식전혈당(공복혈당)')"
   ]
  },
  {
   "cell_type": "code",
   "execution_count": 28,
   "id": "f979cf1f",
   "metadata": {
    "scrolled": true
   },
   "outputs": [
    {
     "data": {
      "text/plain": [
       "<AxesSubplot:xlabel='연령대코드(5세단위)', ylabel='식전혈당(공복혈당)'>"
      ]
     },
     "execution_count": 28,
     "metadata": {},
     "output_type": "execute_result"
    },
    {
     "data": {
      "image/png": "[encoded data removed]",
      "text/plain": [
       "<Figure size 432x288 with 1 Axes>"
      ]
     },
     "metadata": {
      "needs_background": "light"
     },
     "output_type": "display_data"
    }
   ],
   "source": [
    "sns.scatterplot(data = df, x = '연령대코드(5세단위)', y = '식전혈당(공복혈당)')"
   ]
  },
  {
   "cell_type": "code",
   "execution_count": 29,
   "id": "bfc5bffc",
   "metadata": {},
   "outputs": [
    {
     "name": "stderr",
     "output_type": "stream",
     "text": [
      "c:\\users\\양세정\\appdata\\local\\programs\\python\\python38\\lib\\site-packages\\seaborn\\categorical.py:1296: UserWarning: 95.3% of the points cannot be placed; you may want to decrease the size of the markers or use stripplot.\n",
      "  warnings.warn(msg, UserWarning)\n",
      "c:\\users\\양세정\\appdata\\local\\programs\\python\\python38\\lib\\site-packages\\seaborn\\categorical.py:1296: UserWarning: 93.6% of the points cannot be placed; you may want to decrease the size of the markers or use stripplot.\n",
      "  warnings.warn(msg, UserWarning)\n",
      "c:\\users\\양세정\\appdata\\local\\programs\\python\\python38\\lib\\site-packages\\seaborn\\categorical.py:1296: UserWarning: 95.1% of the points cannot be placed; you may want to decrease the size of the markers or use stripplot.\n",
      "  warnings.warn(msg, UserWarning)\n",
      "c:\\users\\양세정\\appdata\\local\\programs\\python\\python38\\lib\\site-packages\\seaborn\\categorical.py:1296: UserWarning: 94.9% of the points cannot be placed; you may want to decrease the size of the markers or use stripplot.\n",
      "  warnings.warn(msg, UserWarning)\n",
      "c:\\users\\양세정\\appdata\\local\\programs\\python\\python38\\lib\\site-packages\\seaborn\\categorical.py:1296: UserWarning: 92.3% of the points cannot be placed; you may want to decrease the size of the markers or use stripplot.\n",
      "  warnings.warn(msg, UserWarning)\n",
      "c:\\users\\양세정\\appdata\\local\\programs\\python\\python38\\lib\\site-packages\\seaborn\\categorical.py:1296: UserWarning: 90.5% of the points cannot be placed; you may want to decrease the size of the markers or use stripplot.\n",
      "  warnings.warn(msg, UserWarning)\n",
      "c:\\users\\양세정\\appdata\\local\\programs\\python\\python38\\lib\\site-packages\\seaborn\\categorical.py:1296: UserWarning: 84.9% of the points cannot be placed; you may want to decrease the size of the markers or use stripplot.\n",
      "  warnings.warn(msg, UserWarning)\n",
      "c:\\users\\양세정\\appdata\\local\\programs\\python\\python38\\lib\\site-packages\\seaborn\\categorical.py:1296: UserWarning: 78.8% of the points cannot be placed; you may want to decrease the size of the markers or use stripplot.\n",
      "  warnings.warn(msg, UserWarning)\n",
      "c:\\users\\양세정\\appdata\\local\\programs\\python\\python38\\lib\\site-packages\\seaborn\\categorical.py:1296: UserWarning: 49.1% of the points cannot be placed; you may want to decrease the size of the markers or use stripplot.\n",
      "  warnings.warn(msg, UserWarning)\n"
     ]
    },
    {
     "data": {
      "text/plain": [
       "<AxesSubplot:xlabel='연령대코드(5세단위)', ylabel='식전혈당(공복혈당)'>"
      ]
     },
     "execution_count": 29,
     "metadata": {},
     "output_type": "execute_result"
    },
    {
     "data": {
      "image/png": "[encoded data removed]",
      "text/plain": [
       "<Figure size 432x288 with 1 Axes>"
      ]
     },
     "metadata": {
      "needs_background": "light"
     },
     "output_type": "display_data"
    }
   ],
   "source": [
    "sns.swarmplot(x=\"연령대코드(5세단위)\",y=\"식전혈당(공복혈당)\",data=df)"
   ]
  },
  {
   "cell_type": "markdown",
   "id": "9e5c76f0",
   "metadata": {},
   "source": [
    "#### 결론\n",
    "- 식전혈당 평균을 봤을 때 가장 높은 3 연령대는 17(80부터 84세), 15(70부터 74세), 16(75부터 79세)순이었는데  \n",
    "  모두 정상 범주안에는 있으나 조금만 벗어나면 벗어나기 때문에 꾸준한 관리가 필요해보인다. 그리고 식전혈당수치의   \n",
    "  분포도 살펴보았는데 각 연령대마다 이상치가 발견되었고 이 이상치들은 당뇨병이 있거나 당뇨병이 있을 것으로  \n",
    "  의심되는 환자의 수치일 것으로 추정되며 정상 범주를 크게 넘었으므로 각별한 관리및 치료가 필요해보인다.\n",
    "  \n",
    "  "
   ]
  },
  {
   "cell_type": "markdown",
   "id": "3b3f9378",
   "metadata": {},
   "source": [
    "### 3. 성별과 음주여부에 따른 감마지티피"
   ]
  },
  {
   "cell_type": "code",
   "execution_count": 30,
   "id": "36895611",
   "metadata": {
    "scrolled": false
   },
   "outputs": [
    {
     "data": {
      "text/plain": [
       "성별  음주여부\n",
       "F   No      2825\n",
       "    Yes     2037\n",
       "M   Yes     3783\n",
       "    No      1355\n",
       "Name: 음주여부, dtype: int64"
      ]
     },
     "execution_count": 30,
     "metadata": {},
     "output_type": "execute_result"
    }
   ],
   "source": [
    "df.groupby('성별')['음주여부'].value_counts()"
   ]
  },
  {
   "cell_type": "code",
   "execution_count": 33,
   "id": "78dca391",
   "metadata": {
    "scrolled": false
   },
   "outputs": [
    {
     "data": {
      "text/plain": [
       "([<matplotlib.patches.Wedge at 0x23f15dd8730>,\n",
       "  <matplotlib.patches.Wedge at 0x23f15dd8d30>],\n",
       " [Text(-0.276904604659854, 1.0645768360800314, 'No'),\n",
       "  Text(0.2769046046598544, -1.0645768360800314, 'Yes')],\n",
       " [Text(-0.15103887526901127, 0.5806782742254716, '58.1%'),\n",
       "  Text(0.15103887526901147, -0.5806782742254716, '41.9%')])"
      ]
     },
     "execution_count": 33,
     "metadata": {},
     "output_type": "execute_result"
    },
    {
     "data": {
      "image/png": "[encoded data removed]",
      "text/plain": [
       "<Figure size 432x288 with 1 Axes>"
      ]
     },
     "metadata": {},
     "output_type": "display_data"
    }
   ],
   "source": [
    "#여성의 음주여부 비율#\n",
    "ratio = [58.1, 41.9] #영역 비율\n",
    "labels = ['No','Yes'] #영역 이름\n",
    "plt.pie(ratio, labels=labels, autopct='%.1f%%') "
   ]
  },
  {
   "cell_type": "code",
   "execution_count": 34,
   "id": "a1ae272e",
   "metadata": {},
   "outputs": [
    {
     "data": {
      "text/plain": [
       "([<matplotlib.patches.Wedge at 0x23f15e1cbb0>,\n",
       "  <matplotlib.patches.Wedge at 0x23f15e2b1f0>],\n",
       " [Text(0.7428660925790176, 0.8112644257554885, 'No'),\n",
       "  Text(-0.7428660925790178, -0.8112644257554884, 'Yes')],\n",
       " [Text(0.4051996868612823, 0.4425078685939028, '26.4%'),\n",
       "  Text(-0.4051996868612824, -0.44250786859390273, '73.6%')])"
      ]
     },
     "execution_count": 34,
     "metadata": {},
     "output_type": "execute_result"
    },
    {
     "data": {
      "image/png": "[encoded data removed]",
      "text/plain": [
       "<Figure size 432x288 with 1 Axes>"
      ]
     },
     "metadata": {},
     "output_type": "display_data"
    }
   ],
   "source": [
    "#남성의 음주여부 비율#\n",
    "ratio = [26.4, 73.6] \n",
    "labels = ['No','Yes'] \n",
    "plt.pie(ratio, labels=labels, autopct='%.1f%%')"
   ]
  },
  {
   "cell_type": "code",
   "execution_count": 35,
   "id": "f92381e4",
   "metadata": {
    "scrolled": false
   },
   "outputs": [
    {
     "data": {
      "text/html": [
       "<div>\n",
       "<style scoped>\n",
       "    .dataframe tbody tr th:only-of-type {\n",
       "        vertical-align: middle;\n",
       "    }\n",
       "\n",
       "    .dataframe tbody tr th {\n",
       "        vertical-align: top;\n",
       "    }\n",
       "\n",
       "    .dataframe thead th {\n",
       "        text-align: right;\n",
       "    }\n",
       "</style>\n",
       "<table border=\"1\" class=\"dataframe\">\n",
       "  <thead>\n",
       "    <tr style=\"text-align: right;\">\n",
       "      <th></th>\n",
       "      <th>성별</th>\n",
       "      <th>mean_gamma</th>\n",
       "    </tr>\n",
       "  </thead>\n",
       "  <tbody>\n",
       "    <tr>\n",
       "      <th>0</th>\n",
       "      <td>F</td>\n",
       "      <td>25.225250</td>\n",
       "    </tr>\n",
       "    <tr>\n",
       "      <th>1</th>\n",
       "      <td>M</td>\n",
       "      <td>50.225509</td>\n",
       "    </tr>\n",
       "  </tbody>\n",
       "</table>\n",
       "</div>"
      ],
      "text/plain": [
       "  성별  mean_gamma\n",
       "0  F   25.225250\n",
       "1  M   50.225509"
      ]
     },
     "execution_count": 35,
     "metadata": {},
     "output_type": "execute_result"
    }
   ],
   "source": [
    "df.groupby('성별' , as_index = False).agg( mean_gamma = ('감마지티피', 'mean'))"
   ]
  },
  {
   "cell_type": "code",
   "execution_count": 36,
   "id": "66ca4691",
   "metadata": {
    "scrolled": true
   },
   "outputs": [
    {
     "data": {
      "image/png": "[encoded data removed]",
      "text/plain": [
       "<Figure size 432x288 with 1 Axes>"
      ]
     },
     "metadata": {
      "needs_background": "light"
     },
     "output_type": "display_data"
    }
   ],
   "source": [
    "x= ['F', 'M']\n",
    "y = [25.2, 50.2]\n",
    "plt.bar(x, y, width=0.5, color=\"purple\")\n",
    "plt.show()"
   ]
  },
  {
   "cell_type": "code",
   "execution_count": 37,
   "id": "6c775c5d",
   "metadata": {},
   "outputs": [
    {
     "data": {
      "text/plain": [
       "<AxesSubplot:xlabel='성별', ylabel='감마지티피'>"
      ]
     },
     "execution_count": 37,
     "metadata": {},
     "output_type": "execute_result"
    },
    {
     "data": {
      "image/png": "[encoded data removed]",
      "text/plain": [
       "<Figure size 432x288 with 1 Axes>"
      ]
     },
     "metadata": {
      "needs_background": "light"
     },
     "output_type": "display_data"
    }
   ],
   "source": [
    "sns.scatterplot(data = df, x=\"성별\",y=\"감마지티피\")"
   ]
  },
  {
   "cell_type": "markdown",
   "id": "f2584ca0",
   "metadata": {},
   "source": [
    "#### 결론\n",
    "- 성별에 따른 음주여부를 확인했을 때 여성보다 남성이 음주를 많이 하는 것으로 보인다.  \n",
    "  또한, 성별에 따른 감마지티피 평균을 확인했을 때 남성이 여성보다 약 2배 가량 높은 수치를  \n",
    "  보여주었으며 이런 결과를 통해 음주가 감마지티피 수치에 영향을 주는 것을 알 수 있다.  \n",
    "  정상치 기준에 따르면 여성, 남성의 평균은 정상 범주에 있지만 특정 이상치를 보이는  \n",
    "  환자들은 음주를 줄이거나 중단하고 치료하는게 바람직해 보인다.\n",
    "  "
   ]
  }
 ],
 "metadata": {
  "kernelspec": {
   "display_name": "Python 3 (ipykernel)",
   "language": "python",
   "name": "python3"
  },
  "language_info": {
   "codemirror_mode": {
    "name": "ipython",
    "version": 3
   },
   "file_extension": ".py",
   "mimetype": "text/x-python",
   "name": "python",
   "nbconvert_exporter": "python",
   "pygments_lexer": "ipython3",
   "version": "3.8.10"
  }
 },
 "nbformat": 4,
 "nbformat_minor": 5
}
